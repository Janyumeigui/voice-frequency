{
 "cells": [
  {
   "cell_type": "markdown",
   "metadata": {},
   "source": [
    "# Baseline 0.8177\n",
    "## @最大的梦想家"
   ]
  },
  {
   "cell_type": "markdown",
   "metadata": {},
   "source": [
    "# File structure\n",
    "- data/\n",
    "    - train/\n",
    "    - test/\n",
    "    - submission.csv\n",
    "- baseline.ipynb"
   ]
  },
  {
   "cell_type": "code",
   "execution_count": 1,
   "metadata": {},
   "outputs": [
    {
     "ename": "ModuleNotFoundError",
     "evalue": "No module named 'librosa'",
     "output_type": "error",
     "traceback": [
      "\u001b[1;31m---------------------------------------------------------------------------\u001b[0m",
      "\u001b[1;31mModuleNotFoundError\u001b[0m                       Traceback (most recent call last)",
      "\u001b[1;32m<ipython-input-1-2eec17a28d22>\u001b[0m in \u001b[0;36m<module>\u001b[1;34m\u001b[0m\n\u001b[0;32m      1\u001b[0m \u001b[1;32mimport\u001b[0m \u001b[0mnumpy\u001b[0m \u001b[1;32mas\u001b[0m \u001b[0mnp\u001b[0m\u001b[1;33m\u001b[0m\u001b[1;33m\u001b[0m\u001b[0m\n\u001b[1;32m----> 2\u001b[1;33m \u001b[1;32mimport\u001b[0m \u001b[0mlibrosa\u001b[0m \u001b[1;32mas\u001b[0m \u001b[0mlb\u001b[0m\u001b[1;33m\u001b[0m\u001b[1;33m\u001b[0m\u001b[0m\n\u001b[0m\u001b[0;32m      3\u001b[0m \u001b[1;32mimport\u001b[0m \u001b[0mpandas\u001b[0m \u001b[1;32mas\u001b[0m \u001b[0mpd\u001b[0m\u001b[1;33m\u001b[0m\u001b[1;33m\u001b[0m\u001b[0m\n\u001b[0;32m      4\u001b[0m \u001b[1;33m\u001b[0m\u001b[0m\n\u001b[0;32m      5\u001b[0m \u001b[1;32mimport\u001b[0m \u001b[0mos\u001b[0m\u001b[1;33m\u001b[0m\u001b[1;33m\u001b[0m\u001b[0m\n",
      "\u001b[1;31mModuleNotFoundError\u001b[0m: No module named 'librosa'"
     ]
    }
   ],
   "source": [
    "import numpy as np\n",
    "import librosa as lb\n",
    "import pandas as pd\n",
    "\n",
    "import os"
   ]
  },
  {
   "cell_type": "code",
   "execution_count": 2,
   "metadata": {},
   "outputs": [],
   "source": [
    "NUM_CLASSES = 30\n",
    "SR = 16_000"
   ]
  },
  {
   "cell_type": "markdown",
   "metadata": {},
   "source": [
    "# Preprocessing"
   ]
  },
  {
   "cell_type": "code",
   "execution_count": 3,
   "metadata": {},
   "outputs": [],
   "source": [
    "def get_melspec(x, sr, n_mels=64):\n",
    "    melspec = lb.feature.melspectrogram(x, sr=sr, n_mels=n_mels)\n",
    "    lb.power_to_db(melspec).astype(np.float32)\n",
    "    return melspec"
   ]
  },
  {
   "cell_type": "code",
   "execution_count": 4,
   "metadata": {},
   "outputs": [],
   "source": [
    "from tqdm import tqdm\n",
    "from sklearn.utils import shuffle\n",
    "\n",
    "def crop_or_pad(y, length):\n",
    "    if len(y) < length:\n",
    "        y = np.concatenate([y, np.zeros(length - len(y))])\n",
    "    elif len(y) > length:\n",
    "        y = y[: length]\n",
    "    return y\n",
    "\n",
    "def preprocess_train():\n",
    "    labels = os.listdir('data/train')\n",
    "    x, y = [], []\n",
    "\n",
    "    for i, label in enumerate(labels):\n",
    "        label_dir = f'data/train/{label}'\n",
    "        for wav_file in tqdm(os.listdir(label_dir)):\n",
    "            wav_path = label_dir + f'/{wav_file}'\n",
    "            wav, sr = lb.load(wav_path, sr=SR)\n",
    "            wav = crop_or_pad(wav, 1*SR)\n",
    "            melspec = get_melspec(wav, sr)\n",
    "            x.append(melspec)\n",
    "            y.append(i)\n",
    "\n",
    "    x, y = np.r_[x], np.r_[y]\n",
    "    x, y = shuffle(x, y, random_state=7)\n",
    "\n",
    "    return x.astype(np.float32), y.astype(np.int64)"
   ]
  },
  {
   "cell_type": "code",
   "execution_count": 5,
   "metadata": {},
   "outputs": [],
   "source": [
    "def preprocess_test():\n",
    "    x, keys = [], []\n",
    "\n",
    "    for wav_file in tqdm(os.listdir('data/test')):\n",
    "        wav_path = f'data/test/{wav_file}'\n",
    "        wav, sr = lb.load(wav_path, sr=SR)\n",
    "        wav = crop_or_pad(wav, 1*SR)\n",
    "        melspec = get_melspec(wav, sr)\n",
    "        x.append(melspec)\n",
    "        keys.append(wav_file)\n",
    "\n",
    "    x = np.r_[x]\n",
    "\n",
    "    return x.astype(np.float32), keys"
   ]
  },
  {
   "cell_type": "code",
   "execution_count": 6,
   "metadata": {},
   "outputs": [
    {
     "ename": "NameError",
     "evalue": "name 'os' is not defined",
     "output_type": "error",
     "traceback": [
      "\u001b[1;31m---------------------------------------------------------------------------\u001b[0m",
      "\u001b[1;31mNameError\u001b[0m                                 Traceback (most recent call last)",
      "\u001b[1;32m<ipython-input-6-408ef6ddcd84>\u001b[0m in \u001b[0;36m<module>\u001b[1;34m\u001b[0m\n\u001b[1;32m----> 1\u001b[1;33m \u001b[0mx_train\u001b[0m\u001b[1;33m,\u001b[0m \u001b[0my_train\u001b[0m \u001b[1;33m=\u001b[0m \u001b[0mpreprocess_train\u001b[0m\u001b[1;33m(\u001b[0m\u001b[1;33m)\u001b[0m\u001b[1;33m\u001b[0m\u001b[1;33m\u001b[0m\u001b[0m\n\u001b[0m\u001b[0;32m      2\u001b[0m \u001b[0mx_train\u001b[0m\u001b[1;33m.\u001b[0m\u001b[0mshape\u001b[0m\u001b[1;33m,\u001b[0m \u001b[0my_train\u001b[0m\u001b[1;33m.\u001b[0m\u001b[0mshape\u001b[0m\u001b[1;33m\u001b[0m\u001b[1;33m\u001b[0m\u001b[0m\n",
      "\u001b[1;32m<ipython-input-4-429a72dc9242>\u001b[0m in \u001b[0;36mpreprocess_train\u001b[1;34m()\u001b[0m\n\u001b[0;32m     10\u001b[0m \u001b[1;33m\u001b[0m\u001b[0m\n\u001b[0;32m     11\u001b[0m \u001b[1;32mdef\u001b[0m \u001b[0mpreprocess_train\u001b[0m\u001b[1;33m(\u001b[0m\u001b[1;33m)\u001b[0m\u001b[1;33m:\u001b[0m\u001b[1;33m\u001b[0m\u001b[1;33m\u001b[0m\u001b[0m\n\u001b[1;32m---> 12\u001b[1;33m     \u001b[0mlabels\u001b[0m \u001b[1;33m=\u001b[0m \u001b[0mos\u001b[0m\u001b[1;33m.\u001b[0m\u001b[0mlistdir\u001b[0m\u001b[1;33m(\u001b[0m\u001b[1;34m'data/train'\u001b[0m\u001b[1;33m)\u001b[0m\u001b[1;33m\u001b[0m\u001b[1;33m\u001b[0m\u001b[0m\n\u001b[0m\u001b[0;32m     13\u001b[0m     \u001b[0mx\u001b[0m\u001b[1;33m,\u001b[0m \u001b[0my\u001b[0m \u001b[1;33m=\u001b[0m \u001b[1;33m[\u001b[0m\u001b[1;33m]\u001b[0m\u001b[1;33m,\u001b[0m \u001b[1;33m[\u001b[0m\u001b[1;33m]\u001b[0m\u001b[1;33m\u001b[0m\u001b[1;33m\u001b[0m\u001b[0m\n\u001b[0;32m     14\u001b[0m \u001b[1;33m\u001b[0m\u001b[0m\n",
      "\u001b[1;31mNameError\u001b[0m: name 'os' is not defined"
     ]
    }
   ],
   "source": [
    "x_train, y_train = preprocess_train()\n",
    "x_train.shape, y_train.shape"
   ]
  },
  {
   "cell_type": "markdown",
   "metadata": {},
   "source": [
    "# Training"
   ]
  },
  {
   "cell_type": "code",
   "execution_count": 7,
   "metadata": {},
   "outputs": [],
   "source": [
    "import keras4torch as k4t\n",
    "import torch\n",
    "import torch.nn as nn"
   ]
  },
  {
   "cell_type": "code",
   "execution_count": 12,
   "metadata": {},
   "outputs": [
    {
     "data": {
      "text/plain": [
       "101390"
      ]
     },
     "execution_count": 12,
     "metadata": {},
     "output_type": "execute_result"
    }
   ],
   "source": [
    "model = nn.Sequential(\n",
    "    k4t.layers.Conv1d(128, 5), nn.ReLU(),\n",
    "    k4t.layers.BatchNorm1d(),\n",
    "    k4t.layers.Conv1d(64, 5), nn.ReLU(),\n",
    "    nn.MaxPool1d(2),\n",
    "    k4t.layers.Conv1d(64, 4), nn.ReLU(),\n",
    "    nn.AdaptiveAvgPool1d(2),\n",
    "    nn.Flatten(),\n",
    "    k4t.layers.Linear(16), nn.ReLU(),\n",
    "    k4t.layers.Linear(NUM_CLASSES)\n",
    ")\n",
    "\n",
    "model = k4t.Model(model).build(input_shape=[64, 32])\n",
    "\n",
    "model.compile(optimizer='adam', loss='ce_loss', metrics=['acc'])\n",
    "\n",
    "model.count_params()"
   ]
  },
  {
   "cell_type": "code",
   "execution_count": 13,
   "metadata": {},
   "outputs": [
    {
     "name": "stdout",
     "output_type": "stream",
     "text": [
      "Train on 46309 samples, validate on 11577 samples:\n",
      "Epoch 1/32 - 4.1s - loss: 2.8121 - acc: 0.1754 - val_loss: 2.2991 - val_acc: 0.3421 - lr: 1e-03\n",
      "Epoch 2/32 - 2.8s - loss: 1.8458 - acc: 0.4461 - val_loss: 1.7178 - val_acc: 0.5312 - lr: 1e-03\n",
      "Epoch 3/32 - 2.8s - loss: 1.4595 - acc: 0.5655 - val_loss: 1.5178 - val_acc: 0.5844 - lr: 1e-03\n",
      "Epoch 4/32 - 2.9s - loss: 1.2346 - acc: 0.6347 - val_loss: 1.2641 - val_acc: 0.6563 - lr: 1e-03\n",
      "Epoch 5/32 - 2.8s - loss: 1.0808 - acc: 0.6781 - val_loss: 1.1072 - val_acc: 0.6946 - lr: 1e-03\n",
      "Epoch 6/32 - 2.8s - loss: 0.9690 - acc: 0.7113 - val_loss: 1.0050 - val_acc: 0.7245 - lr: 1e-03\n",
      "Epoch 7/32 - 2.7s - loss: 0.8852 - acc: 0.7343 - val_loss: 0.9039 - val_acc: 0.7493 - lr: 1e-03\n",
      "Epoch 8/32 - 2.7s - loss: 0.8107 - acc: 0.7570 - val_loss: 0.8433 - val_acc: 0.7607 - lr: 1e-03\n",
      "Epoch 9/32 - 2.8s - loss: 0.7525 - acc: 0.7730 - val_loss: 0.8436 - val_acc: 0.7655 - lr: 1e-03\n",
      "Epoch 10/32 - 2.7s - loss: 0.7108 - acc: 0.7875 - val_loss: 0.8267 - val_acc: 0.7678 - lr: 1e-03\n",
      "Epoch 11/32 - 2.8s - loss: 0.6763 - acc: 0.7979 - val_loss: 0.9258 - val_acc: 0.7354 - lr: 1e-03\n",
      "Epoch 12/32 - 2.7s - loss: 0.6410 - acc: 0.8072 - val_loss: 0.7593 - val_acc: 0.7909 - lr: 1e-03\n",
      "Epoch 13/32 - 2.8s - loss: 0.6057 - acc: 0.8168 - val_loss: 0.7525 - val_acc: 0.7912 - lr: 1e-03\n",
      "Epoch 14/32 - 2.7s - loss: 0.5754 - acc: 0.8266 - val_loss: 0.7168 - val_acc: 0.8001 - lr: 1e-03\n",
      "Epoch 15/32 - 2.8s - loss: 0.5588 - acc: 0.8330 - val_loss: 0.7207 - val_acc: 0.7985 - lr: 1e-03\n",
      "Epoch 16/32 - 2.7s - loss: 0.5345 - acc: 0.8374 - val_loss: 0.6909 - val_acc: 0.8094 - lr: 1e-03\n",
      "Epoch 17/32 - 2.8s - loss: 0.5129 - acc: 0.8447 - val_loss: 0.7668 - val_acc: 0.7898 - lr: 1e-03\n",
      "Epoch 18/32 - 2.8s - loss: 0.4970 - acc: 0.8488 - val_loss: 0.6244 - val_acc: 0.8303 - lr: 1e-03\n",
      "Epoch 19/32 - 2.7s - loss: 0.4856 - acc: 0.8529 - val_loss: 0.7376 - val_acc: 0.7970 - lr: 1e-03\n",
      "Epoch 20/32 - 2.7s - loss: 0.4732 - acc: 0.8564 - val_loss: 0.6229 - val_acc: 0.8331 - lr: 1e-03\n",
      "Epoch 21/32 - 2.7s - loss: 0.4522 - acc: 0.8633 - val_loss: 0.6479 - val_acc: 0.8301 - lr: 1e-03\n",
      "Epoch 22/32 - 2.8s - loss: 0.4512 - acc: 0.8636 - val_loss: 0.6287 - val_acc: 0.8338 - lr: 1e-03\n",
      "Epoch 23/32 - 2.8s - loss: 0.4366 - acc: 0.8662 - val_loss: 0.7016 - val_acc: 0.8170 - lr: 1e-03\n",
      "Epoch 24/32 - 2.8s - loss: 0.4244 - acc: 0.8708 - val_loss: 0.6435 - val_acc: 0.8348 - lr: 1e-03\n",
      "Epoch 25/32 - 2.9s - loss: 0.4131 - acc: 0.8735 - val_loss: 0.6088 - val_acc: 0.8367 - lr: 1e-03\n",
      "Epoch 26/32 - 2.8s - loss: 0.4036 - acc: 0.8778 - val_loss: 0.6316 - val_acc: 0.8396 - lr: 1e-03\n",
      "Epoch 27/32 - 2.7s - loss: 0.3974 - acc: 0.8789 - val_loss: 0.6120 - val_acc: 0.8396 - lr: 1e-03\n",
      "Epoch 28/32 - 2.7s - loss: 0.3946 - acc: 0.8795 - val_loss: 0.6006 - val_acc: 0.8462 - lr: 1e-03\n",
      "Epoch 29/32 - 2.7s - loss: 0.3833 - acc: 0.8831 - val_loss: 0.5818 - val_acc: 0.8458 - lr: 1e-03\n",
      "Epoch 30/32 - 2.7s - loss: 0.3733 - acc: 0.8851 - val_loss: 0.6197 - val_acc: 0.8434 - lr: 1e-03\n",
      "Epoch 31/32 - 2.8s - loss: 0.3695 - acc: 0.8880 - val_loss: 0.6322 - val_acc: 0.8324 - lr: 1e-03\n",
      "Epoch 32/32 - 2.8s - loss: 0.3638 - acc: 0.8895 - val_loss: 0.6022 - val_acc: 0.8469 - lr: 1e-03\n"
     ]
    }
   ],
   "source": [
    "history = model.fit(x_train, y_train,\n",
    "        epochs=32,\n",
    "        batch_size=64,\n",
    "        validation_split=0.2,\n",
    "        callbacks=[k4t.callbacks.ModelCheckpoint('best.pt', monitor='val_acc')]\n",
    ")"
   ]
  },
  {
   "cell_type": "markdown",
   "metadata": {},
   "source": [
    "# Inference"
   ]
  },
  {
   "cell_type": "code",
   "execution_count": 14,
   "metadata": {},
   "outputs": [
    {
     "name": "stderr",
     "output_type": "stream",
     "text": [
      "100%|██████████| 6835/6835 [00:19<00:00, 351.41it/s]\n"
     ]
    },
    {
     "data": {
      "text/plain": [
       "(6835, 64, 32)"
      ]
     },
     "execution_count": 14,
     "metadata": {},
     "output_type": "execute_result"
    }
   ],
   "source": [
    "x_test, keys = preprocess_test()\n",
    "x_test.shape"
   ]
  },
  {
   "cell_type": "code",
   "execution_count": 15,
   "metadata": {},
   "outputs": [],
   "source": [
    "model.load_weights('best.pt')\n",
    "\n",
    "y_pred = model.predict(x_test, activation=lambda x:x.argmax(-1))\n",
    "\n",
    "labels = os.listdir('data/train')\n",
    "\n",
    "submission = pd.read_csv('data/submission.csv')\n",
    "\n",
    "mapping = {k:labels[v] for k,v in zip(keys, y_pred)}\n",
    "\n",
    "submission['label'] = [mapping[k] for k in submission['file_name']]\n",
    "\n",
    "submission.to_csv('baseline_submission.csv', index=None)"
   ]
  },
  {
   "cell_type": "code",
   "execution_count": null,
   "metadata": {},
   "outputs": [],
   "source": []
  }
 ],
 "metadata": {
  "kernelspec": {
   "display_name": "Python 3",
   "language": "python",
   "name": "python3"
  },
  "language_info": {
   "codemirror_mode": {
    "name": "ipython",
    "version": 3
   },
   "file_extension": ".py",
   "mimetype": "text/x-python",
   "name": "python",
   "nbconvert_exporter": "python",
   "pygments_lexer": "ipython3",
   "version": "3.8.5"
  }
 },
 "nbformat": 4,
 "nbformat_minor": 2
}
